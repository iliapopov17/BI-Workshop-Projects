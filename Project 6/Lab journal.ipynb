{
 "cells": [
  {
   "cell_type": "markdown",
   "metadata": {},
   "source": [
    "# **Project №6 Lab journal**\n",
    "## **Baking Bread**\n",
    "> Done by Ilia Popov"
   ]
  },
  {
   "cell_type": "markdown",
   "metadata": {},
   "source": [
    "We will explore how RNA expression levels change as yeast undergo fermentation to make bread rise. There are two replicates of RNA-seq data from yeast before and during fermentation, and our goal is to find out if the yeast express different genes during fermentation than they do under normal growth."
   ]
  },
  {
   "cell_type": "markdown",
   "metadata": {},
   "source": [
    "### **1) Downloading the data**"
   ]
  },
  {
   "cell_type": "code",
   "execution_count": null,
   "metadata": {},
   "outputs": [],
   "source": [
    "# SRR941816: fermentation 0 minutes replicate 1 \n",
    "! wget ftp.sra.ebi.ac.uk/vol1/fastq/SRR941/SRR941816/SRR941816.fastq.gz -P data/raw_data\n",
    "# ----------------------------------------------\n",
    "# SRR941817: fermentation 0 minutes replicate 2 \n",
    "! wget ftp.sra.ebi.ac.uk/vol1/fastq/SRR941/SRR941817/SRR941817.fastq.gz -P data/raw_data\n",
    "# ----------------------------------------------\n",
    "# SRR941818: fermentation 30 minutes replicate 1 \n",
    "! wget ftp.sra.ebi.ac.uk/vol1/fastq/SRR941/SRR941818/SRR941818.fastq.gz -P data/raw_data\n",
    "# ----------------------------------------------\n",
    "# SRR941819: fermentation 30 minutes replicate 2 \n",
    "! wget ftp.sra.ebi.ac.uk/vol1/fastq/SRR941/SRR941819/SRR941819.fastq.gz -P data/raw_data"
   ]
  },
  {
   "cell_type": "markdown",
   "metadata": {},
   "source": [
    "As a reference genome we will use _Saccharomyces cerevisiae_, the strain S288c and assembly R64."
   ]
  },
  {
   "cell_type": "code",
   "execution_count": null,
   "metadata": {},
   "outputs": [],
   "source": [
    "# reference genome file: \n",
    "! wget ftp.ncbi.nlm.nih.gov/genomes/all/GCF/000/146/045/GCF_000146045.2_R64/GCF_000146045.2_R64_genomic.fna.gz -P data/reference\n",
    "# ----------------------\n",
    "# annotation file:\n",
    "! wget ftp.ncbi.nlm.nih.gov/genomes/all/GCF/000/146/045/GCF_000146045.2_R64/GCF_000146045.2_R64_genomic.gff.gz -P data/reference"
   ]
  },
  {
   "cell_type": "markdown",
   "metadata": {},
   "source": [
    "### **2) Quality checking of sequencing**"
   ]
  },
  {
   "cell_type": "markdown",
   "metadata": {},
   "source": [
    "#### **2.1) `FastQC`**\n",
    "\n",
    "First, let's generate `FastQC` reports"
   ]
  },
  {
   "cell_type": "code",
   "execution_count": null,
   "metadata": {},
   "outputs": [],
   "source": [
    "! fastqc data/raw_data/SRR941816.fastq.gz data/raw_data/SRR941817.fastq.gz \\\n",
    "data/raw_data/SRR941818.fastq.gz data/raw_data/SRR941819.fastq.gz"
   ]
  },
  {
   "cell_type": "markdown",
   "metadata": {},
   "source": [
    "#### **2.2) `MultiQC`**\n",
    "\n",
    "Then, let's generate `MultiQC` report based on `FastQC` reports."
   ]
  },
  {
   "cell_type": "code",
   "execution_count": null,
   "metadata": {},
   "outputs": [],
   "source": [
    "! multiqc data/raw_data"
   ]
  },
  {
   "cell_type": "markdown",
   "metadata": {},
   "source": [
    "### **3) Analysis pipeline**"
   ]
  },
  {
   "cell_type": "markdown",
   "metadata": {},
   "source": [
    "#### **3.1) Unpack downloaded data**"
   ]
  },
  {
   "cell_type": "code",
   "execution_count": 8,
   "metadata": {},
   "outputs": [],
   "source": [
    "! gunzip data/reference/GCF_000146045.2_R64_genomic.fna.gz\n",
    "! gunzip data/reference/GCF_000146045.2_R64_genomic.gff.gz\n",
    "! gunzip data/raw_data/SRR94181*.fastq.gz"
   ]
  },
  {
   "cell_type": "markdown",
   "metadata": {},
   "source": [
    "#### **3.2) Aligning with HISAT2**"
   ]
  },
  {
   "cell_type": "markdown",
   "metadata": {},
   "source": [
    "First, let's build genome index"
   ]
  },
  {
   "cell_type": "code",
   "execution_count": null,
   "metadata": {},
   "outputs": [],
   "source": [
    "! hisat2-build data/reference/GCF_000146045.2_R64_genomic.fna hisat2_indeces/reference"
   ]
  },
  {
   "cell_type": "markdown",
   "metadata": {},
   "source": [
    "Then, let's run `hisat2` in single-end mode"
   ]
  },
  {
   "cell_type": "code",
   "execution_count": null,
   "metadata": {},
   "outputs": [],
   "source": [
    "! hisat2 -p 8 -x hisat2_indeces/reference -U data/raw_data/SRR941816.fastq | samtools sort > bam_files/SRR941816.bam\n",
    "! hisat2 -p 8 -x hisat2_indeces/reference -U data/raw_data/SRR941817.fastq | samtools sort > bam_files/SRR941817.bam\n",
    "! hisat2 -p 8 -x hisat2_indeces/reference -U data/raw_data/SRR941818.fastq | samtools sort > bam_files/SRR941818.bam\n",
    "! hisat2 -p 8 -x hisat2_indeces/reference -U data/raw_data/SRR941819.fastq | samtools sort > bam_files/SRR941819.bam"
   ]
  },
  {
   "cell_type": "markdown",
   "metadata": {},
   "source": [
    "Finally, let's save the output of `hisat2`"
   ]
  },
  {
   "cell_type": "markdown",
   "metadata": {},
   "source": [
    "\n",
    "|Sample name|Total reads number|Reads aligned 1 time|Alignment rate|\n",
    "|-----------|------------------|--------------------|-----------------|\n",
    "|SRR941816|9043877|7930593|94.25%|\n",
    "|SRR941817|9929568|8645384|94.91%|\n",
    "|SRR941818|1721675|1508002|96.22%|\n",
    "|SRR941819|6172452|5368133|96.28%|"
   ]
  },
  {
   "cell_type": "markdown",
   "metadata": {},
   "source": [
    "#### **3.2) Quantifying with featureCounts**"
   ]
  },
  {
   "cell_type": "markdown",
   "metadata": {},
   "source": [
    "`featureCounts` can not work with GFF files. We need to convert the GFF file to GTF format. For this purpose we will use `gffread`"
   ]
  },
  {
   "cell_type": "markdown",
   "metadata": {},
   "source": [
    "**Convert from GFF to GTF**"
   ]
  },
  {
   "cell_type": "code",
   "execution_count": 14,
   "metadata": {},
   "outputs": [],
   "source": [
    "! gffread data/reference/GCF_000146045.2_R64_genomic.gff -T -o data/reference/GCF_000146045.2_R64_genomic.gtf"
   ]
  },
  {
   "cell_type": "markdown",
   "metadata": {},
   "source": [
    "**!!! DISCLAMER !!!**<br>\n",
    "In our case `gffread` generates GTF file with empty cells. `featureCounts` doesn't like it. There are 3 possible ways to solve this ptoblem:\n",
    "1) Download file already in GTF format from: ftp.ncbi.nlm.nih.gov/genomes/all/GCF/000/146/045/GCF_000146045.2_R64/GCF_000146045.2_R64_genomic.gtf.gz\n",
    "2) Use `-t gene -g ID` parameter in `featureCounts`\n",
    "3) Filter GTF file output from `gffread` with our own hands...\n",
    "\n",
    "I decided to go with 2 option."
   ]
  },
  {
   "cell_type": "markdown",
   "metadata": {},
   "source": [
    "**Run the feature counts program**"
   ]
  },
  {
   "cell_type": "code",
   "execution_count": null,
   "metadata": {},
   "outputs": [],
   "source": [
    "! featureCounts -g gene_id -a data/reference/GCF_000146045.2_R64_genomic.gff -t gene -g ID \\\n",
    "-o featureCounts_output/all_fc.txt bam_files/*.bam"
   ]
  },
  {
   "cell_type": "markdown",
   "metadata": {},
   "source": [
    "|Sample name|Total alignments|Assigned alignments|\n",
    "|-----------|----------------|-------------------|\n",
    "|SRR941816|9773838|7285693 (74.5%)|\n",
    "|SRR941817|10832704|7986987 (73.7%)|\n",
    "|SRR941818|1885543|1406729 (74.6%)|\n",
    "|SRR941819|6800272  |4994723 (73.4%)|"
   ]
  },
  {
   "cell_type": "markdown",
   "metadata": {},
   "source": [
    "We don’t need all columns from featureCounts output file for further analysis, so let’s simplify it."
   ]
  },
  {
   "cell_type": "code",
   "execution_count": 19,
   "metadata": {},
   "outputs": [],
   "source": [
    "! cat featureCounts_output/all_fc.txt | cut -f 1,7-10 > simple_counts.txt"
   ]
  },
  {
   "cell_type": "markdown",
   "metadata": {},
   "source": [
    "#### **3.3) Find differentially expressed genes with Deseq2**\n",
    "> Scripts from: Raiko, Mike (2021). Scripts for RNA-seq project. figshare. Software. https://doi.org/10.6084/m9.figshare.14239304.v1<br>\n",
    "> With custom parameters"
   ]
  },
  {
   "cell_type": "markdown",
   "metadata": {},
   "source": [
    "**Calculate metrics**"
   ]
  },
  {
   "cell_type": "markdown",
   "metadata": {},
   "source": [
    "This script generates following files:\n",
    "1)\t`result.txt` will contain calculated metrics for our genes\n",
    "2)\t`norm-matrix-deseq2.txt` will contain normalised counts that we will use in visualisation"
   ]
  },
  {
   "cell_type": "code",
   "execution_count": null,
   "metadata": {},
   "outputs": [],
   "source": [
    "! cat simple_counts.txt | R -f R_scripts/deseq2.r"
   ]
  },
  {
   "cell_type": "markdown",
   "metadata": {},
   "source": [
    "**Draw heatmap**"
   ]
  },
  {
   "cell_type": "code",
   "execution_count": null,
   "metadata": {},
   "outputs": [],
   "source": [
    "! cat norm-matrix-deseq2.txt | R -f R_scripts/draw-heatmap.r"
   ]
  },
  {
   "cell_type": "markdown",
   "metadata": {},
   "source": [
    "**Draw volcanoplot**"
   ]
  },
  {
   "cell_type": "code",
   "execution_count": null,
   "metadata": {},
   "outputs": [],
   "source": [
    "! cat result.txt | R -f R_scripts/draw-volcanoplot.r"
   ]
  },
  {
   "cell_type": "markdown",
   "metadata": {},
   "source": [
    "### **4) Result interpretation**"
   ]
  },
  {
   "cell_type": "markdown",
   "metadata": {},
   "source": [
    "#### **4.1) Ordinary Gene ontology (GO)**\n",
    "\n",
    "In the `result.txt` file genes are sorted by adjusted p-values. So let’s take the first 50 genes from this file using linux head utility and keep only the first column (gene names) using linux cut program:"
   ]
  },
  {
   "cell_type": "code",
   "execution_count": 7,
   "metadata": {},
   "outputs": [],
   "source": [
    "! head -n 50 result.txt | cut -f 1 | cut -d \"-\" -f 2 > GO/genes.txt"
   ]
  },
  {
   "cell_type": "markdown",
   "metadata": {},
   "source": [
    "Go to http://www.yeastgenome.org/cgi-bin/GO/goSlimMapper.pl<br>\n",
    "For top 50 differentially expressed genes:\n",
    "1) Press `Choose file` and upload `genes.txt`\n",
    "2) Select `Yeast GO-Slim: Process`\n",
    "3) Make sure `SELECT ALL TERMS` is highlighted. Press `Submit Form`\n",
    "4) Try to interpret these results"
   ]
  },
  {
   "cell_type": "markdown",
   "metadata": {},
   "source": [
    "#### **4.2) ShinyGO**\n",
    "\n",
    "In order to get \"state-of-art\" visualisation I want to use `ShinyGO`\n",
    "\n",
    "We need 3 files:\n",
    "1) List of `all` significantly differential expressed genes (DEG)\n",
    "2) List of significantly `downregulated` genes\n",
    "3) List of significantly `upregulated` genes"
   ]
  },
  {
   "cell_type": "code",
   "execution_count": 3,
   "metadata": {},
   "outputs": [],
   "source": [
    "import pandas as pd"
   ]
  },
  {
   "cell_type": "markdown",
   "metadata": {},
   "source": [
    "##### **4.2.1) All significantly DEGs**"
   ]
  },
  {
   "cell_type": "code",
   "execution_count": 26,
   "metadata": {},
   "outputs": [],
   "source": [
    "df = pd.read_csv('result.txt', sep='\\t') \n",
    "\n",
    "all_genes = df[(abs(df['log2FoldChange']) > 2) & (df['padj'] < 0.05)]\n",
    "all_genes = all_genes.drop(\"Unnamed: 0\", axis=1)\n",
    "\n",
    "gene_ids_all = all_genes[\"id\"]\n",
    "gene_ids_all = [i[5:] for i in gene_ids_all]\n",
    "\n",
    "pd.Series(gene_ids_all).to_csv(\"ShinyGO/all_genes.txt\", index=False)"
   ]
  },
  {
   "cell_type": "markdown",
   "metadata": {},
   "source": [
    "##### **4.2.2) `Downregulated` genes**"
   ]
  },
  {
   "cell_type": "code",
   "execution_count": 21,
   "metadata": {},
   "outputs": [],
   "source": [
    "downreg_genes = all_genes[(all_genes['log2FoldChange']) < 2]\n",
    "\n",
    "gene_ids_down = downreg_genes[\"id\"]\n",
    "gene_ids_down = [id[5:] for id in gene_ids_down]\n",
    "\n",
    "pd.Series(gene_ids_down).to_csv(\"ShinyGO/downreg_genes.txt\", index=False)"
   ]
  },
  {
   "cell_type": "markdown",
   "metadata": {},
   "source": [
    "##### **4.2.3) `Upregulated` genes**"
   ]
  },
  {
   "cell_type": "code",
   "execution_count": 22,
   "metadata": {},
   "outputs": [],
   "source": [
    "upreg_genes = all_genes[(all_genes['log2FoldChange']) > 2]\n",
    "\n",
    "gene_ids_up = upreg_genes[\"id\"]\n",
    "gene_ids_up = [id[5:] for id in gene_ids_up]\n",
    "\n",
    "pd.Series(gene_ids_up).to_csv(\"ShinyGO/upreg_genes.txt\", index=False)"
   ]
  },
  {
   "cell_type": "markdown",
   "metadata": {},
   "source": [
    "Go to http://bioinformatics.sdstate.edu/go/<br>\n",
    "1) Press `Select a species` and search for _Saccharomyces cerevisiae_\n",
    "2) Paste list of `downregulated` genes to the main window\n",
    "3) Paste list of `all significantly DEGs` to the `Background` window\n",
    "4) Press `Submit`"
   ]
  }
 ],
 "metadata": {
  "kernelspec": {
   "display_name": "BI6",
   "language": "python",
   "name": "python3"
  },
  "language_info": {
   "codemirror_mode": {
    "name": "ipython",
    "version": 3
   },
   "file_extension": ".py",
   "mimetype": "text/x-python",
   "name": "python",
   "nbconvert_exporter": "python",
   "pygments_lexer": "ipython3",
   "version": "3.12.2"
  }
 },
 "nbformat": 4,
 "nbformat_minor": 2
}
