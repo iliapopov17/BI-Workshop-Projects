{
 "cells": [
  {
   "cell_type": "markdown",
   "metadata": {},
   "source": [
    "## Installing the envinroment"
   ]
  },
  {
   "cell_type": "code",
   "execution_count": null,
   "metadata": {
    "vscode": {
     "languageId": "shellscript"
    }
   },
   "outputs": [],
   "source": [
    "# CONDA_SUBDIR=osx-64 conda create -n project1\n",
    "# conda activate project1\n",
    "# conda config --env --set subdir osx-64\n",
    "# conda install -c bioconda fastqc\n",
    "# conda install -c bioconda snpeff"
   ]
  },
  {
   "cell_type": "markdown",
   "metadata": {},
   "source": [
    "## **Downloading and unpacking the data**"
   ]
  },
  {
   "cell_type": "markdown",
   "metadata": {},
   "source": [
    "First, we need the reference sequence of the parental (unevolved, not resistant to antibiotics) E. coli strain.\n",
    "We need sequence in fasta format (GCF_000005845.2_ASM584v2_genomic.fna.gz) and annotation in .gff format(*_genomic.gff.gz). This is E.coli strain K-12 substrain MG1655, laboratory workhorse."
   ]
  },
  {
   "cell_type": "code",
   "execution_count": null,
   "metadata": {
    "vscode": {
     "languageId": "shellscript"
    }
   },
   "outputs": [],
   "source": [
    "! wget https://ftp.ncbi.nlm.nih.gov/genomes/all/GCF/000/005/845/GCF_000005845.2_ASM584v2/GCF_000005845.2_ASM584v2_genomic.fna.gz"
   ]
  },
  {
   "cell_type": "code",
   "execution_count": null,
   "metadata": {
    "vscode": {
     "languageId": "shellscript"
    }
   },
   "outputs": [],
   "source": [
    "! gzip -d GCF_000005845.2_ASM584v2_genomic.fna.gz"
   ]
  },
  {
   "cell_type": "markdown",
   "metadata": {},
   "source": [
    "Then we will need raw Illumina sequencing reads from shotgun sequencing of an E. coli strain that is resistant to the antibiotic ampicillin:\n",
    "https://doi.org/10.6084/m9.figshare.10006541.v3"
   ]
  },
  {
   "cell_type": "code",
   "execution_count": null,
   "metadata": {
    "vscode": {
     "languageId": "shellscript"
    }
   },
   "outputs": [],
   "source": [
    "! wget https://ftp.ncbi.nlm.nih.gov/genomes/all/GCF/000/005/845/GCF_000005845.2_ASM584v2/GCF_000005845.2_ASM584v2_genomic.gff.gz"
   ]
  },
  {
   "cell_type": "code",
   "execution_count": null,
   "metadata": {
    "vscode": {
     "languageId": "shellscript"
    }
   },
   "outputs": [],
   "source": [
    "! gzip -d GCF_000005845.2_ASM584v2_genomic.gff.gz"
   ]
  },
  {
   "cell_type": "markdown",
   "metadata": {},
   "source": [
    "## Inspect raw sequencing data manually"
   ]
  },
  {
   "cell_type": "markdown",
   "metadata": {},
   "source": [
    "Let's check how many reads are in each fastq file. Some reads will get removed during analysis, so it’s important to know what we started with."
   ]
  },
  {
   "cell_type": "code",
   "execution_count": null,
   "metadata": {
    "vscode": {
     "languageId": "shellscript"
    }
   },
   "outputs": [],
   "source": [
    "! wc -l amp_res_1.fastq\n",
    "# 1823504 amp_res_1.fastq"
   ]
  },
  {
   "cell_type": "code",
   "execution_count": 3,
   "metadata": {
    "vscode": {
     "languageId": "shellscript"
    }
   },
   "outputs": [
    {
     "data": {
      "text/plain": [
       "455876"
      ]
     },
     "execution_count": 3,
     "metadata": {},
     "output_type": "execute_result"
    }
   ],
   "source": [
    "1823504 // 4"
   ]
  },
  {
   "cell_type": "code",
   "execution_count": null,
   "metadata": {
    "vscode": {
     "languageId": "shellscript"
    }
   },
   "outputs": [],
   "source": [
    "! wc -l amp_res_2.fastq\n",
    "# 1823504 amp_res_2.fastq"
   ]
  },
  {
   "cell_type": "code",
   "execution_count": 4,
   "metadata": {
    "vscode": {
     "languageId": "shellscript"
    }
   },
   "outputs": [
    {
     "data": {
      "text/plain": [
       "455876"
      ]
     },
     "execution_count": 4,
     "metadata": {},
     "output_type": "execute_result"
    }
   ],
   "source": [
    "1823504 // 4"
   ]
  },
  {
   "cell_type": "markdown",
   "metadata": {},
   "source": [
    "## Inspect raw sequencing data with FastQC."
   ]
  },
  {
   "cell_type": "markdown",
   "metadata": {},
   "source": [
    "Run the program fastqc on the two fastq files.<br>\n",
    "We also have to tell fastqc where to put the output files (use  ‘-o . ’ to output files to the current directory).<br>\n",
    "We have to specify the full root path to each fastq file.  "
   ]
  },
  {
   "cell_type": "code",
   "execution_count": null,
   "metadata": {
    "vscode": {
     "languageId": "shellscript"
    }
   },
   "outputs": [],
   "source": [
    "! fastqc -o . ~/OneDrive/Study/BI/BioInf/Project\\ \\#1/raw_data/amp_res_1.fastq ~/OneDrive/Study/BI/BioInf/Project\\ \\#1/raw_data/amp_res_2.fastq\n",
    "# 455876 in amp_res_1_fastqc.html\n",
    "# 455876 in amp_res_2_fastqc.html"
   ]
  },
  {
   "cell_type": "code",
   "execution_count": 6,
   "metadata": {
    "vscode": {
     "languageId": "shellscript"
    }
   },
   "outputs": [
    {
     "data": {
      "text/plain": [
       "1823504"
      ]
     },
     "execution_count": 6,
     "metadata": {},
     "output_type": "execute_result"
    }
   ],
   "source": [
    "455876 * 4"
   ]
  },
  {
   "cell_type": "markdown",
   "metadata": {},
   "source": [
    "Red circles in:<br>\n",
    "1. Per base sequence quality in amp_res_1_fastqc.html\n",
    "2. Per tile sequence quality in amp_res_1_fastqc.html\n",
    "3. Per base sequence quality in amp_res_2_fastqc.html"
   ]
  },
  {
   "cell_type": "markdown",
   "metadata": {},
   "source": [
    "## Filtering the reads."
   ]
  },
  {
   "cell_type": "markdown",
   "metadata": {},
   "source": [
    "Run Trimmomatic in paired end mode, with following parameters:<br>\n",
    "●\tCut bases off the start of a read if quality below 20.<br>\n",
    "●\tCut bases off the end of a read if quality below 20.<br>\n",
    "●\tTrim reads using a sliding window approach, with window size 10 and average quality  within the window 20.<br>\n",
    "●\tDrop the read if it is below length 20.\n"
   ]
  },
  {
   "cell_type": "code",
   "execution_count": null,
   "metadata": {
    "vscode": {
     "languageId": "shellscript"
    }
   },
   "outputs": [],
   "source": [
    "! trimmomatic PE -phred33 amp_res_1.fastq amp_res_2.fastq output_forward_paired.fastq output_forward_unpaired.fastq output_reverse_paired.fastq output_reverse_unpaired.fastq LEADING:20 TRAILING:20 SLIDINGWINDOW:10:20 MINLEN:20"
   ]
  },
  {
   "cell_type": "code",
   "execution_count": null,
   "metadata": {
    "vscode": {
     "languageId": "shellscript"
    }
   },
   "outputs": [],
   "source": [
    "! wc -l output_forward_paired.fastq\n",
    "   #1785036 output_forward_paired.fastq\n",
    "! wc -l output_forward_unpaired.fastq\n",
    "   #36864 output_forward_unpaired.fastq\n",
    "! wc -l output_reverse_paired.fastq\n",
    "   #1785036 output_reverse_paired.fastq\n",
    "! wc -l output_reverse_unpaired.fastq\n",
    "   #1092 output_reverse_unpaired.fastq"
   ]
  },
  {
   "cell_type": "code",
   "execution_count": 5,
   "metadata": {
    "vscode": {
     "languageId": "shellscript"
    }
   },
   "outputs": [
    {
     "data": {
      "text/plain": [
       "446259"
      ]
     },
     "execution_count": 5,
     "metadata": {},
     "output_type": "execute_result"
    }
   ],
   "source": [
    "1785036 // 4"
   ]
  },
  {
   "cell_type": "markdown",
   "metadata": {},
   "source": [
    "Run the program fastqc on the two fastq files.<br>"
   ]
  },
  {
   "cell_type": "code",
   "execution_count": null,
   "metadata": {
    "vscode": {
     "languageId": "shellscript"
    }
   },
   "outputs": [],
   "source": [
    "! fastqc -o . ~/OneDrive/Study/BI/BioInf/Project\\ \\#1/raw_data/output_forward_paired.fastq ~/OneDrive/Study/BI/BioInf/Project\\ \\#1/raw_data/output_reverse_paired.fastq"
   ]
  },
  {
   "cell_type": "markdown",
   "metadata": {},
   "source": [
    "Red circles in:<br>\n",
    "1. Per tile sequence quality in output_forward_paired_fastqc.html"
   ]
  },
  {
   "cell_type": "markdown",
   "metadata": {},
   "source": [
    "### Let's test what happens if we increase the quality score at all steps to 30? "
   ]
  },
  {
   "cell_type": "markdown",
   "metadata": {},
   "source": [
    "Make a new directory and copy files into it."
   ]
  },
  {
   "cell_type": "code",
   "execution_count": null,
   "metadata": {
    "vscode": {
     "languageId": "shellscript"
    }
   },
   "outputs": [],
   "source": [
    "! mkdir test_trimmomatic_30"
   ]
  },
  {
   "cell_type": "code",
   "execution_count": null,
   "metadata": {
    "vscode": {
     "languageId": "shellscript"
    }
   },
   "outputs": [],
   "source": [
    "! cp amp_res_1.fastq ~/OneDrive/Study/BI/BioInf/Project\\ \\#1/raw_data/test_trimmomatic_30"
   ]
  },
  {
   "cell_type": "code",
   "execution_count": null,
   "metadata": {
    "vscode": {
     "languageId": "shellscript"
    }
   },
   "outputs": [],
   "source": [
    "! cp amp_res_2.fastq ~/OneDrive/Study/BI/BioInf/Project\\ \\#1/raw_data/test_trimmomatic_30"
   ]
  },
  {
   "cell_type": "markdown",
   "metadata": {},
   "source": [
    "Run Trimmomatic in paired end mode, with following parameters:<br>\n",
    "●\tCut bases off the start of a read if quality below 30.<br>\n",
    "●\tCut bases off the end of a read if quality below 30.<br>\n",
    "●\tTrim reads using a sliding window approach, with window size 10 and average quality  within the window 30.<br>\n",
    "●\tDrop the read if it is below length 30."
   ]
  },
  {
   "cell_type": "code",
   "execution_count": null,
   "metadata": {
    "vscode": {
     "languageId": "shellscript"
    }
   },
   "outputs": [],
   "source": [
    "! trimmomatic PE -phred33 amp_res_1.fastq amp_res_2.fastq output_forward_paired_30.fastq output_forward_unpaired_30.fastq output_reverse_paired_30.fastq output_reverse_unpaired_30.fastq LEADING:30 TRAILING:30 SLIDINGWINDOW:10:30 MINLEN:30"
   ]
  },
  {
   "cell_type": "code",
   "execution_count": null,
   "metadata": {
    "vscode": {
     "languageId": "shellscript"
    }
   },
   "outputs": [],
   "source": [
    "! wc -l output_forward_paired_30.fastq\n",
    "  #1440836 output_forward_paired_30.fastq\n",
    "! wc -l output_forward_unpaired_30.fastq\n",
    "  #146864 output_forward_unpaired_30.fastq\n",
    "! wc -l output_reverse_paired_30.fastq\n",
    "  #1440836 output_reverse_paired_30.fastq\n",
    "! wc -l output_reverse_unpaired_30.fastq\n",
    "  #109164 output_reverse_unpaired_30.fastq"
   ]
  },
  {
   "cell_type": "code",
   "execution_count": 7,
   "metadata": {
    "vscode": {
     "languageId": "shellscript"
    }
   },
   "outputs": [
    {
     "data": {
      "text/plain": [
       "360209"
      ]
     },
     "execution_count": 7,
     "metadata": {},
     "output_type": "execute_result"
    }
   ],
   "source": [
    "1440836 // 4"
   ]
  },
  {
   "cell_type": "code",
   "execution_count": null,
   "metadata": {
    "vscode": {
     "languageId": "shellscript"
    }
   },
   "outputs": [],
   "source": [
    "! fastqc -o . ~/OneDrive/Study/BI/BioInf/Project\\ \\#1/raw_data/test_trimmomatic_30/output_forward_paired_30.fastq ~/OneDrive/Study/BI/BioInf/Project\\ \\#1/raw_data/test_trimmomatic_30/output_reverse_paired_30.fastq"
   ]
  },
  {
   "cell_type": "markdown",
   "metadata": {},
   "source": [
    "Red circles in:<br>\n",
    "1. Per tile sequence quality in output_forward_paired_30_fastqc.html\n",
    "2. Per tile sequence quality in output_reverse_paired_30_fastqc.html"
   ]
  },
  {
   "cell_type": "markdown",
   "metadata": {},
   "source": [
    "That is why we decided to use results from trimmomatic with the quality score at all steps at 20"
   ]
  },
  {
   "cell_type": "markdown",
   "metadata": {},
   "source": [
    "## Aligning sequences to reference"
   ]
  },
  {
   "cell_type": "markdown",
   "metadata": {},
   "source": [
    "### Index the reference file "
   ]
  },
  {
   "cell_type": "markdown",
   "metadata": {},
   "source": [
    "We have to index the reference file. There is a command in bwa to do this."
   ]
  },
  {
   "cell_type": "code",
   "execution_count": null,
   "metadata": {
    "vscode": {
     "languageId": "shellscript"
    }
   },
   "outputs": [],
   "source": [
    "! bwa index GCF_000005845.2_ASM584v2_genomic.fna\n",
    "#[bwa_index] Pack FASTA... 0.07 sec\n",
    "#[bwa_index] Construct BWT for the packed sequence...\n",
    "#[bwa_index] 1.01 seconds elapse.\n",
    "#[bwa_index] Update BWT... 0.03 sec\n",
    "#[bwa_index] Pack forward-only FASTA... 0.05 sec\n",
    "#[bwa_index] Construct SA from BWT and Occ... 0.34 sec\n",
    "#[main] Version: 0.7.17-r1188\n",
    "#[main] CMD: bwa index GCF_000005845.2_ASM584v2_genomic.fna.gz\n",
    "#[main] Real time: 1.492 sec; CPU: 1.793 sec"
   ]
  },
  {
   "cell_type": "markdown",
   "metadata": {},
   "source": [
    "### Aligning reads"
   ]
  },
  {
   "cell_type": "code",
   "execution_count": null,
   "metadata": {
    "vscode": {
     "languageId": "shellscript"
    }
   },
   "outputs": [],
   "source": [
    "! bwa mem GCF_000005845.2_ASM584v2_genomic.fna output_forward_paired.fastq output_reverse_paired.fastq > alignment.sam"
   ]
  },
  {
   "cell_type": "markdown",
   "metadata": {},
   "source": [
    "### Compress SAM file"
   ]
  },
  {
   "cell_type": "code",
   "execution_count": null,
   "metadata": {
    "vscode": {
     "languageId": "shellscript"
    }
   },
   "outputs": [],
   "source": [
    "! samtools view -S -b alignment.sam > alignment.bam"
   ]
  },
  {
   "cell_type": "code",
   "execution_count": null,
   "metadata": {
    "vscode": {
     "languageId": "shellscript"
    }
   },
   "outputs": [],
   "source": [
    "! samtools flagstat alignment.bam\n",
    "#892776 + 0 in total (QC-passed reads + QC-failed reads)\n",
    "#892518 + 0 primary\n",
    "#0 + 0 secondary\n",
    "#258 + 0 supplementary\n",
    "#0 + 0 duplicates\n",
    "#0 + 0 primary duplicates\n",
    "#891649 + 0 mapped (99.87% : N/A)\n",
    "#891391 + 0 primary mapped (99.87% : N/A)\n",
    "#892518 + 0 paired in sequencing\n",
    "#446259 + 0 read1\n",
    "#446259 + 0 read2\n",
    "#888554 + 0 properly paired (99.56% : N/A)\n",
    "#890412 + 0 with itself and mate mapped\n",
    "#979 + 0 singletons (0.11% : N/A)\n",
    "#0 + 0 with mate mapped to a different chr\n",
    "#0 + 0 with mate mapped to a different chr (mapQ>=5)"
   ]
  },
  {
   "cell_type": "markdown",
   "metadata": {},
   "source": [
    "99.87% of reads are mapped!"
   ]
  },
  {
   "cell_type": "markdown",
   "metadata": {},
   "source": [
    "### Sort and index BAM file"
   ]
  },
  {
   "cell_type": "code",
   "execution_count": null,
   "metadata": {
    "vscode": {
     "languageId": "shellscript"
    }
   },
   "outputs": [],
   "source": [
    "! samtools sort alignment.bam -o alignment_sorted.bam"
   ]
  },
  {
   "cell_type": "code",
   "execution_count": null,
   "metadata": {
    "vscode": {
     "languageId": "shellscript"
    }
   },
   "outputs": [],
   "source": [
    "! samtools index alignment_sorted.bam"
   ]
  },
  {
   "cell_type": "markdown",
   "metadata": {},
   "source": [
    "## Variant calling"
   ]
  },
  {
   "cell_type": "markdown",
   "metadata": {},
   "source": [
    "First we need to make an intermediate file type called an mpileup, because it goes through each position and “piles up” the reads, tabulating the number of bases that match or don’t match the reference. "
   ]
  },
  {
   "cell_type": "code",
   "execution_count": null,
   "metadata": {
    "vscode": {
     "languageId": "shellscript"
    }
   },
   "outputs": [],
   "source": [
    "! samtools mpileup -f GCF_000005845.2_ASM584v2_genomic.fna alignment_sorted.bam > my.mpileup"
   ]
  },
  {
   "cell_type": "markdown",
   "metadata": {},
   "source": [
    "To call actual variants, we will use a program called VarScan (variant scanner)."
   ]
  },
  {
   "cell_type": "code",
   "execution_count": null,
   "metadata": {
    "vscode": {
     "languageId": "shellscript"
    }
   },
   "outputs": [],
   "source": [
    "! java -jar VarScan.v2.4.0.jar mpileup2snp my.mpileup --min-var-freq 0.70 --variants --output-vcf 1 > VarScan_results.vcf"
   ]
  },
  {
   "cell_type": "markdown",
   "metadata": {},
   "source": [
    "## Automatic SNP annotation"
   ]
  },
  {
   "cell_type": "markdown",
   "metadata": {},
   "source": [
    "### Step 0"
   ]
  },
  {
   "cell_type": "markdown",
   "metadata": {},
   "source": [
    "To annotate vcf file, we need sequence and annotation of our reference, to build a custom database. Easiest way - use Genbank format that contains both annotation and sequence:<br>\n",
    "**NB!!!!!! file is in GBFF format!!!!!**\n"
   ]
  },
  {
   "cell_type": "code",
   "execution_count": null,
   "metadata": {
    "vscode": {
     "languageId": "shellscript"
    }
   },
   "outputs": [],
   "source": [
    "! wget https://ftp.ncbi.nlm.nih.gov/genomes/all/GCF/000/005/845/GCF_000005845.2_ASM584v2/GCF_000005845.2_ASM584v2_genomic.gbff.gz"
   ]
  },
  {
   "cell_type": "code",
   "execution_count": null,
   "metadata": {
    "vscode": {
     "languageId": "shellscript"
    }
   },
   "outputs": [],
   "source": [
    "! gzip -d GCF_000005845.2_ASM584v2_genomic.gbff.gz"
   ]
  },
  {
   "cell_type": "markdown",
   "metadata": {},
   "source": [
    "### Step 1. Create database"
   ]
  },
  {
   "cell_type": "markdown",
   "metadata": {},
   "source": [
    "#### Create empty text file snpEff.config, and add there just one string: k12.genome : ecoli_K12"
   ]
  },
  {
   "cell_type": "code",
   "execution_count": null,
   "metadata": {
    "vscode": {
     "languageId": "shellscript"
    }
   },
   "outputs": [],
   "source": [
    "! echo k12.genome : ecoli_K12 > snpEff.config"
   ]
  },
  {
   "cell_type": "markdown",
   "metadata": {},
   "source": [
    "#### Create folder for the database"
   ]
  },
  {
   "cell_type": "code",
   "execution_count": null,
   "metadata": {
    "vscode": {
     "languageId": "shellscript"
    }
   },
   "outputs": [],
   "source": [
    "! mkdir -p data/k12"
   ]
  },
  {
   "cell_type": "markdown",
   "metadata": {},
   "source": [
    "#### Put there .gbk file (rename to genes.gbk)"
   ]
  },
  {
   "cell_type": "code",
   "execution_count": null,
   "metadata": {
    "vscode": {
     "languageId": "shellscript"
    }
   },
   "outputs": [],
   "source": [
    "! cp GCF_000005845.2_ASM584v2_genomic.gbff data/k12/genes.gbk"
   ]
  },
  {
   "cell_type": "markdown",
   "metadata": {},
   "source": [
    "#### Create database"
   ]
  },
  {
   "cell_type": "code",
   "execution_count": null,
   "metadata": {
    "vscode": {
     "languageId": "shellscript"
    }
   },
   "outputs": [],
   "source": [
    "! snpEff build -genbank -v k12"
   ]
  },
  {
   "cell_type": "markdown",
   "metadata": {},
   "source": [
    "#### Annotate"
   ]
  },
  {
   "cell_type": "code",
   "execution_count": null,
   "metadata": {
    "vscode": {
     "languageId": "shellscript"
    }
   },
   "outputs": [],
   "source": [
    "! snpEff ann k12 VarScan_results.vcf > VarScan_results_annotated.vcf"
   ]
  },
  {
   "cell_type": "markdown",
   "metadata": {},
   "source": [
    "## Ending"
   ]
  },
  {
   "cell_type": "markdown",
   "metadata": {},
   "source": [
    "Visualise VarScan_results_annotated.vcf in IGV or open it as a table in LibreOffice"
   ]
  }
 ],
 "metadata": {
  "kernelspec": {
   "display_name": "Python 3",
   "language": "python",
   "name": "python3"
  },
  "language_info": {
   "codemirror_mode": {
    "name": "ipython",
    "version": 3
   },
   "file_extension": ".py",
   "mimetype": "text/x-python",
   "name": "python",
   "nbconvert_exporter": "python",
   "pygments_lexer": "ipython3",
   "version": "3.12.0"
  }
 },
 "nbformat": 4,
 "nbformat_minor": 2
}
